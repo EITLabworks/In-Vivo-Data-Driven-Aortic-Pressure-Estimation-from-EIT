{
 "cells": [
  {
   "cell_type": "code",
   "execution_count": null,
   "id": "68cda978-f39d-430c-931b-536b545cff4d",
   "metadata": {},
   "outputs": [],
   "source": [
    "import numpy as np\n",
    "import matplotlib.pyplot as plt\n",
    "from src.data_util import load_augmented_example\n",
    "from src.evaluation import DAP_SAP_MAP_kde, hist_AP, plot_SAP_MAP\n",
    "\n",
    "import tensorflow as tf\n",
    "\n",
    "from sklearn.model_selection import train_test_split\n",
    "import glob\n",
    "import json\n",
    "import os\n",
    "\n",
    "import seaborn as sns\n",
    "import pandas as pd\n",
    "\n",
    "from sklearn.decomposition import PCA\n",
    "from sklearn.preprocessing import StandardScaler"
   ]
  },
  {
   "cell_type": "markdown",
   "id": "2ce2caaf-5481-40a3-ac86-c281e7cd93fb",
   "metadata": {},
   "source": [
    "## Load training and validation data\n",
    "\n",
    "![](images/hist_pig_samples_aug_v2.png)\n",
    "\n",
    "The model is tuned using the augmented prepared data (hatched orange/blue) and the prepared original data (blue) and is validated using the validation data (green)."
   ]
  },
  {
   "cell_type": "code",
   "execution_count": null,
   "id": "330bbec0-05e1-4dcd-a077-b57d4c0ca178",
   "metadata": {},
   "outputs": [],
   "source": [
    "pigs = [\"P_{0:02d}_PulHyp\".format(i) for i in range(1, 11)]\n",
    "print(pigs)\n",
    "\n",
    "load_path = \"/data/PulHypStudie_Check_npz_v2_SNR20/\""
   ]
  },
  {
   "cell_type": "code",
   "execution_count": null,
   "id": "5936e335-949d-4d7e-a3db-1b805cee6cff",
   "metadata": {},
   "outputs": [],
   "source": [
    "X_train, y_train, clrs_pig_train = load_augmented_example(\n",
    "    load_path, pigs, sample_skip=500, load_samples=\"upwards\"\n",
    ")"
   ]
  },
  {
   "cell_type": "code",
   "execution_count": null,
   "id": "9843689a-b92e-4184-ab28-570c7e23117c",
   "metadata": {},
   "outputs": [],
   "source": [
    "X_valid, y_valid, clrs_pig_valid = load_augmented_example(\n",
    "    load_path, pigs, sample_skip=500, load_samples=\"downwards\"\n",
    ")"
   ]
  },
  {
   "cell_type": "code",
   "execution_count": null,
   "id": "7140014f-3fa0-49f7-935b-71a68308ea61",
   "metadata": {},
   "outputs": [],
   "source": [
    "print(\n",
    "    X_train.shape,\n",
    "    X_valid.shape,\n",
    "    y_train.shape,\n",
    "    y_valid.shape,\n",
    "    clrs_pig_train.shape,\n",
    "    clrs_pig_valid.shape,\n",
    ")"
   ]
  },
  {
   "cell_type": "markdown",
   "id": "9d60434a-4333-45f7-b98f-66c4d3a333ed",
   "metadata": {},
   "source": [
    "**PCA**"
   ]
  },
  {
   "cell_type": "code",
   "execution_count": null,
   "id": "b0e0c91d-b1b3-4ffe-a1f7-c237582e09a6",
   "metadata": {},
   "outputs": [],
   "source": [
    "scaler = StandardScaler()\n",
    "X_scaled = scaler.fit_transform(\n",
    "    X_valid.reshape(X_valid.shape[0], X_valid.shape[1] * X_valid.shape[2])\n",
    ")\n",
    "\n",
    "pca = PCA(n_components=2)\n",
    "X_pca = pca.fit_transform(X_scaled)"
   ]
  },
  {
   "cell_type": "code",
   "execution_count": null,
   "id": "f25dea6e-2bd0-4e82-b069-8d305888377a",
   "metadata": {},
   "outputs": [],
   "source": [
    "pigs_int = [int(c[0][4:6]) for c in clrs_pig_valid]\n",
    "\n",
    "cmap = plt.get_cmap(\"viridis\", np.max(pigs_int) - np.min(pigs_int) + 1)\n",
    "\n",
    "plt.figure(figsize=(8, 6))\n",
    "plt.title(\"Blockwise normalization\")\n",
    "scatter = plt.scatter(\n",
    "    X_pca[:, 0], X_pca[:, 1], c=pigs_int, cmap=cmap, edgecolor=\"k\", s=25\n",
    ")\n",
    "\n",
    "c_bar = plt.colorbar(scatter, ticks=np.arange(np.min(pigs_int), np.max(pigs_int) + 1))\n",
    "c_bar.set_label(\"Pig\")\n",
    "c_bar.set_ticks(np.arange(np.min(pigs_int), np.max(pigs_int) + 1))\n",
    "\n",
    "plt.xlabel(\"1st principal component\")\n",
    "plt.ylabel(\"2nd principal component\")\n",
    "plt.show()"
   ]
  },
  {
   "cell_type": "markdown",
   "id": "5211fb54-7378-4e94-bcb4-4269c217d47a",
   "metadata": {},
   "source": [
    "## Hyperparameter Tuning \n",
    "\n",
    "- [Keras Tuner](https://www.tensorflow.org/tutorials/keras/keras_tuner)"
   ]
  },
  {
   "cell_type": "code",
   "execution_count": null,
   "id": "e3d2c06a-352a-4abd-8406-d6da735e0287",
   "metadata": {},
   "outputs": [],
   "source": [
    "import keras_tuner as kt\n",
    "from tensorflow import keras"
   ]
  },
  {
   "cell_type": "code",
   "execution_count": null,
   "id": "68018364-e925-4b41-af89-4a521c459f95",
   "metadata": {},
   "outputs": [],
   "source": [
    "def build_model(hp):\n",
    "    output_dim = 3\n",
    "\n",
    "    model = keras.Sequential()\n",
    "    # input layer\n",
    "    model.add(keras.layers.Input(shape=(64, 1024, 1)))\n",
    "\n",
    "    # tune the number of hidden layers and units in each.\n",
    "    for i in range(1, hp.Int(\"num_layers\", 4, 7)):\n",
    "        print(f\"Init layer {i=}\")\n",
    "        hp_units = hp.Int(\"units_\" + str(i), min_value=2, max_value=16, step=4)\n",
    "        hp_kernel = hp.Int(\"kernel_\" + str(i), min_value=2, max_value=9, step=1)\n",
    "        # stride dim (0,1)\n",
    "        hp_strides_0 = hp.Int(\"units_0_\" + str(i), min_value=1, max_value=4, step=1)\n",
    "        hp_strides_1 = hp.Int(\"units_1_\" + str(i), min_value=2, max_value=4, step=1)\n",
    "        hp_activation = hp.Choice(\n",
    "            \"activation_\" + str(i), values=[\"relu\", \"elu\", \"tanh\"]\n",
    "        )\n",
    "        hp_dropout = hp.Float(\"dropout_\" + str(i), 0, 1.0, step=0.1)\n",
    "\n",
    "        # create layer\n",
    "        model.add(\n",
    "            keras.layers.Conv2D(\n",
    "                hp_units,\n",
    "                hp_kernel,\n",
    "                strides=(hp_strides_0, hp_strides_1),\n",
    "                padding=\"same\",\n",
    "            )\n",
    "        )\n",
    "        model.add(keras.layers.BatchNormalization())\n",
    "        model.add(tf.keras.layers.Activation(hp_activation))\n",
    "        model.add(keras.layers.Dropout(hp_dropout))\n",
    "\n",
    "    model.add(keras.layers.Flatten())\n",
    "    # output layer.\n",
    "    model.add(keras.layers.Dense(output_dim, activation=\"linear\"))\n",
    "\n",
    "    hp_learning_rate = hp.Choice(\"learning_rate\", values=[1e-2, 1e-3, 1e-4, 1e-5])\n",
    "\n",
    "    model.compile(\n",
    "        optimizer=keras.optimizers.Adam(learning_rate=hp_learning_rate),\n",
    "        loss=keras.losses.MeanAbsoluteError(),\n",
    "        # loss=keras.losses.MeanSquaredError(),\n",
    "        metrics=[\"accuracy\"],\n",
    "    )\n",
    "    print(model.summary())\n",
    "\n",
    "    return model"
   ]
  },
  {
   "cell_type": "code",
   "execution_count": null,
   "id": "e756740c-6043-446d-8dc2-d07022b4c101",
   "metadata": {},
   "outputs": [],
   "source": [
    "tuner = kt.Hyperband(\n",
    "    build_model,\n",
    "    objective=\"val_accuracy\",\n",
    "    max_epochs=50,\n",
    "    factor=2,\n",
    "    directory=\"mapper_tuning\",\n",
    "    project_name=\"mapper_tuning_1\",\n",
    ")\n",
    "# mapper_tuning_1 -> tuned on all pigs with MAE\n",
    "# mapper_tuning_2 -> tuned on 9/10 pigs with MAE\n",
    "# mapper_tuning_3 -> tuned on all pigs with MSE\n",
    "# mapper_tuning_4 -> tuned on 9/10 pigs with MSE"
   ]
  },
  {
   "cell_type": "markdown",
   "id": "59844961-59fd-4d08-bf0f-5ffe55cc530d",
   "metadata": {},
   "source": [
    "**Tune model on full data**"
   ]
  },
  {
   "cell_type": "code",
   "execution_count": null,
   "id": "1b6e0484-9ab1-4f76-866d-3899de1322c1",
   "metadata": {},
   "outputs": [],
   "source": [
    "stop_early = tf.keras.callbacks.EarlyStopping(monitor=\"val_accuracy\", patience=10)\n",
    "tuner.search(\n",
    "    X_train,\n",
    "    y_train,\n",
    "    epochs=50,\n",
    "    batch_size=8,\n",
    "    validation_data=(X_valid, y_valid),\n",
    "    callbacks=[stop_early],\n",
    ")"
   ]
  },
  {
   "cell_type": "markdown",
   "id": "f07ad2ac-7e45-46e7-8612-80cfcb9f0e8e",
   "metadata": {},
   "source": [
    "**Train the model with the parameters from the hpt on the first nine pigs**"
   ]
  },
  {
   "cell_type": "code",
   "execution_count": null,
   "id": "40e042dd-4909-411b-aa03-040e032487d7",
   "metadata": {},
   "outputs": [],
   "source": [
    "from glob import glob\n",
    "\n",
    "m_idx = len(glob(\"src/weights/*.h5\")) + 1"
   ]
  },
  {
   "cell_type": "raw",
   "id": "2e97d392-21fb-43de-ac86-beb3f9685ce1",
   "metadata": {},
   "source": [
    "# load all pigs excluding pig 10\n",
    "pigs_train = [\"P_{0:02d}_PulHyp\".format(i) for i in range(1, 10)]\n",
    "X_expt10, y_expt10, clrs_pig_expt10 = load_augmented_example(\n",
    "    load_path, pigs_train, sample_skip=0, load_samples=\"upwards\"\n",
    ")"
   ]
  },
  {
   "cell_type": "code",
   "execution_count": null,
   "id": "eeb64bb2-29c6-44dc-bf05-09cfe9b8886f",
   "metadata": {},
   "outputs": [],
   "source": [
    "pigs = [\"P_{0:02d}_PulHyp\".format(i) for i in range(1, 10)]\n",
    "print(pigs)\n",
    "\n",
    "load_path = \"/data/PulHypStudie_Check_npz_v2_SNR20/\"\n",
    "X_expt10, y_expt10, clrs_pig_expt10 = load_augmented_example(\n",
    "    load_path, pigs, sample_skip=500, load_samples=\"upwards\"\n",
    ")\n",
    "X_valid_expt10, y_valid_expt10, clrs_pig_valid_expt10 = load_augmented_example(\n",
    "    load_path, pigs, sample_skip=500, load_samples=\"downwards\"\n",
    ")"
   ]
  },
  {
   "cell_type": "code",
   "execution_count": null,
   "id": "a8f9db2a-3728-401d-a900-6d4ed9e63b93",
   "metadata": {},
   "outputs": [],
   "source": [
    "best_hps = tuner.get_best_hyperparameters(num_trials=1)[0]\n",
    "print(best_hps.values)\n",
    "model = tuner.hypermodel.build(best_hps)"
   ]
  },
  {
   "cell_type": "code",
   "execution_count": null,
   "id": "29a08eba-11a2-4d2c-b990-15e46d868b9d",
   "metadata": {},
   "outputs": [],
   "source": [
    "best_hps.values"
   ]
  },
  {
   "cell_type": "code",
   "execution_count": null,
   "id": "a0b4d914-588c-4dd4-82ab-c624a7681f07",
   "metadata": {},
   "outputs": [],
   "source": [
    "history = model.fit(\n",
    "    X_expt10,\n",
    "    y_expt10,\n",
    "    epochs=50,\n",
    "    batch_size=8,\n",
    "    validation_data=(X_valid_expt10, y_valid_expt10),\n",
    ")"
   ]
  },
  {
   "cell_type": "code",
   "execution_count": null,
   "id": "8a14617f-24e5-4883-adad-9d73c6555dd7",
   "metadata": {},
   "outputs": [],
   "source": [
    "model.save_weights(f\"src/weights/mapper_model_{m_idx}.weights.h5\")"
   ]
  },
  {
   "cell_type": "markdown",
   "id": "846192dc-bae3-4da7-aa87-b4739bdabd82",
   "metadata": {},
   "source": [
    "**Test model performance with trained model**"
   ]
  },
  {
   "cell_type": "code",
   "execution_count": null,
   "id": "8f894519-ab99-4bf3-99be-e2c2c6f8af8e",
   "metadata": {},
   "outputs": [],
   "source": [
    "# load pig 10 as the test pig\n",
    "pigs_test = [\"P_10_PulHyp\"]\n",
    "X_10, y_10, clrs_pig_10 = load_augmented_example(\n",
    "    load_path, pigs_test, sample_skip=6552, load_samples=\"downwards\"\n",
    ")"
   ]
  },
  {
   "cell_type": "code",
   "execution_count": null,
   "id": "1727ff3b-78d5-47e1-b4c0-f5d5d815cdfe",
   "metadata": {},
   "outputs": [],
   "source": [
    "# predict EIT data of pig 10\n",
    "y_pred = model.predict(X_10)"
   ]
  },
  {
   "cell_type": "code",
   "execution_count": null,
   "id": "d0511483-cd2e-4fd3-a918-ce0e2003bb80",
   "metadata": {},
   "outputs": [],
   "source": [
    "# scale all AP values to the initial scale\n",
    "dap_factor = 180\n",
    "sap_factor = 180\n",
    "map_factor = 160\n",
    "\n",
    "Y_true = np.empty(y_pred.shape)\n",
    "Y_pred = np.empty(y_pred.shape)\n",
    "\n",
    "Y_true[:, 0] = y_10[:, 0] * dap_factor  # dap normalization\n",
    "Y_true[:, 1] = y_10[:, 1] * sap_factor  # sap normalization\n",
    "Y_true[:, 2] = y_10[:, 2] * map_factor  # map normalization\n",
    "\n",
    "Y_pred[:, 0] = y_pred[:, 0] * dap_factor  # dap normalization\n",
    "Y_pred[:, 1] = y_pred[:, 1] * sap_factor  # sap normalization\n",
    "Y_pred[:, 2] = y_pred[:, 2] * map_factor  # map normalization\n",
    "\n",
    "np.savez(\n",
    "    f\"src/results/result_mapper_{m_idx}.npz\",\n",
    "    Y_true=Y_true,\n",
    "    Y_pred=Y_pred,\n",
    ")"
   ]
  },
  {
   "cell_type": "markdown",
   "id": "453f10bb-5e71-48c2-a535-9184e81febea",
   "metadata": {},
   "source": [
    "**Error estimation**"
   ]
  },
  {
   "cell_type": "code",
   "execution_count": null,
   "id": "ee46c69c-d890-4380-b180-528afaf52375",
   "metadata": {},
   "outputs": [],
   "source": [
    "import pandas as pd\n",
    "import seaborn as sns"
   ]
  },
  {
   "cell_type": "code",
   "execution_count": null,
   "id": "b01e4d05-ba2c-459c-8273-540ba154f24d",
   "metadata": {},
   "outputs": [],
   "source": [
    "DAP_err = Y_pred[:, 0] - Y_true[:, 0]\n",
    "SAP_err = Y_pred[:, 1] - Y_true[:, 1]\n",
    "MAP_err = Y_pred[:, 2] - Y_true[:, 2]"
   ]
  },
  {
   "cell_type": "code",
   "execution_count": null,
   "id": "57794573-2b04-4cb5-9fe3-ba1e9c1144a0",
   "metadata": {},
   "outputs": [],
   "source": [
    "DF_err = pd.DataFrame({\"DAP\": DAP_err, \"SAP\": SAP_err, \"MAP\": MAP_err})\n",
    "DF_err.to_csv(f\"src/results/mapper_{m_idx}.csv\", index=False)"
   ]
  },
  {
   "cell_type": "code",
   "execution_count": null,
   "id": "4fd369f5-1d67-4557-904d-568ac071e612",
   "metadata": {},
   "outputs": [],
   "source": [
    "sns.histplot(DF_err)\n",
    "plt.savefig(f\"src/results/histplot_{m_idx}.png\")"
   ]
  },
  {
   "cell_type": "code",
   "execution_count": null,
   "id": "bd3c8940-71af-47e1-8f53-0118bafcdfdf",
   "metadata": {},
   "outputs": [],
   "source": [
    "sns.boxplot(DF_err)\n",
    "plt.grid()\n",
    "plt.ylim([-50, 50])\n",
    "plt.savefig(f\"src/results/boxplot_{m_idx}.png\")"
   ]
  },
  {
   "cell_type": "code",
   "execution_count": null,
   "id": "e79f4bdf-c0f1-410c-b77d-fccd822f2a0e",
   "metadata": {},
   "outputs": [],
   "source": [
    "model.loss(Y_true, Y_pred)"
   ]
  },
  {
   "cell_type": "code",
   "execution_count": null,
   "id": "7475330c-8bb5-4e29-8c32-7f69990854e0",
   "metadata": {},
   "outputs": [],
   "source": [
    "plt.plot(history.history[\"accuracy\"], label=\"Training\")\n",
    "plt.plot(history.history[\"val_accuracy\"], label=\"Validation\")\n",
    "plt.grid()\n",
    "plt.ylim([0, 1.0])\n",
    "plt.xlabel(\"Epoch\")\n",
    "plt.ylabel(\"Accuracy\")\n",
    "plt.legend(loc=\"lower right\")\n",
    "plt.savefig(f\"src/results/accrcy_{m_idx}.png\")\n",
    "plt.show()"
   ]
  },
  {
   "cell_type": "markdown",
   "id": "e911b928-4b67-4edd-b453-e18c06803e77",
   "metadata": {},
   "source": [
    "___"
   ]
  },
  {
   "cell_type": "markdown",
   "id": "626723e8-42f5-4a5f-a3c9-a30af3deb272",
   "metadata": {},
   "source": [
    "## Export\n",
    "\n",
    "**export results**"
   ]
  },
  {
   "cell_type": "code",
   "execution_count": null,
   "id": "3de25afc-a05d-4cf2-967a-cba440fb5b65",
   "metadata": {},
   "outputs": [],
   "source": [
    "from plotLaTeX import HistPlot, BoxPlot"
   ]
  },
  {
   "cell_type": "code",
   "execution_count": null,
   "id": "471c2638-c745-4869-9c2a-c108dba02a45",
   "metadata": {},
   "outputs": [],
   "source": [
    "hist = HistPlot(bins=25)"
   ]
  },
  {
   "cell_type": "code",
   "execution_count": null,
   "id": "45d494b7-8bf5-484a-a01d-ad1ca216bb55",
   "metadata": {},
   "outputs": [],
   "source": [
    "hist.add_histdata(DAP_err, \"DAP\")\n",
    "hist.add_histdata(SAP_err, \"SAP\")\n",
    "hist.add_histdata(MAP_err, \"MAP\")"
   ]
  },
  {
   "cell_type": "code",
   "execution_count": null,
   "id": "2e67fce8-20f0-42d2-8005-35ceea86c55f",
   "metadata": {},
   "outputs": [],
   "source": [
    "hist.add_axis_labels(xlabel=\"Absolute AP deviation (mmHg)\", ylabel=\"Count\")"
   ]
  },
  {
   "cell_type": "code",
   "execution_count": null,
   "id": "67beab50-1873-4d82-9220-1e4afdfa46e3",
   "metadata": {},
   "outputs": [],
   "source": [
    "hist.export(f_name=\"hist_results.csv\")"
   ]
  },
  {
   "cell_type": "code",
   "execution_count": null,
   "id": "04ad6fef-de6e-4a4d-83a5-566dedffa127",
   "metadata": {},
   "outputs": [],
   "source": [
    "box = BoxPlot()"
   ]
  },
  {
   "cell_type": "code",
   "execution_count": null,
   "id": "d97071b0-f61d-49e6-8ca1-dd41ed291d39",
   "metadata": {},
   "outputs": [],
   "source": [
    "box.add_data(DAP_err, \"DAP\")\n",
    "box.add_data(SAP_err, \"SAP\")\n",
    "box.add_data(MAP_err, \"MAP\")"
   ]
  },
  {
   "cell_type": "code",
   "execution_count": null,
   "id": "83b83bf2-6a6a-4738-bce5-e35ee2447dff",
   "metadata": {},
   "outputs": [],
   "source": [
    "box.add_axis_labels(xlabel=\"AP\", ylabel=\"Absolute Error (mmHg)\")"
   ]
  },
  {
   "cell_type": "code",
   "execution_count": null,
   "id": "53cde69d-b5f5-4bc4-9224-b08df50c5df7",
   "metadata": {},
   "outputs": [],
   "source": [
    "box.LaTeXcode()"
   ]
  },
  {
   "cell_type": "code",
   "execution_count": null,
   "id": "678c978f-fd29-44f2-974b-66c11ceac62e",
   "metadata": {},
   "outputs": [],
   "source": [
    "DAP_rerr = (Y_pred[:, 0] - Y_true[:, 0]) / Y_true[:, 0] * 100\n",
    "SAP_rerr = (Y_pred[:, 1] - Y_true[:, 1]) / Y_true[:, 1] * 100\n",
    "MAP_rerr = (Y_pred[:, 2] - Y_true[:, 2]) / Y_true[:, 2] * 100"
   ]
  },
  {
   "cell_type": "code",
   "execution_count": null,
   "id": "6ecfa553-b54c-4389-8209-70cc3be3d19d",
   "metadata": {},
   "outputs": [],
   "source": [
    "box_r = BoxPlot()"
   ]
  },
  {
   "cell_type": "code",
   "execution_count": null,
   "id": "8975086b-de6d-4949-b9b3-71f2fd6dcf90",
   "metadata": {},
   "outputs": [],
   "source": [
    "box_r.add_data(DAP_rerr, \"DAP\")\n",
    "box_r.add_data(SAP_rerr, \"SAP\")\n",
    "box_r.add_data(MAP_rerr, \"MAP\")"
   ]
  },
  {
   "cell_type": "code",
   "execution_count": null,
   "id": "987b8738-f671-4baa-8e23-1b9efb23946b",
   "metadata": {},
   "outputs": [],
   "source": [
    "box_r.add_axis_labels(xlabel=\"AP\", ylabel=\"Relative Error\")"
   ]
  },
  {
   "cell_type": "code",
   "execution_count": null,
   "id": "2b1f2382-dd54-47ac-860d-264b87ca572b",
   "metadata": {},
   "outputs": [],
   "source": [
    "box_r.LaTeXcode()"
   ]
  },
  {
   "cell_type": "code",
   "execution_count": null,
   "id": "fdb3e150-c63d-4467-9eb1-b4aad3aa3f26",
   "metadata": {},
   "outputs": [],
   "source": [
    "DF_rerr = pd.DataFrame({\"DAP\": DAP_rerr, \"SAP\": SAP_rerr, \"MAP\": MAP_rerr})"
   ]
  },
  {
   "cell_type": "code",
   "execution_count": null,
   "id": "29573641-ff07-470b-9a5a-a6030f31c057",
   "metadata": {},
   "outputs": [],
   "source": [
    "sns.boxplot(DF_rerr)\n",
    "plt.grid()\n",
    "plt.ylim([-50, 50])"
   ]
  },
  {
   "cell_type": "code",
   "execution_count": null,
   "id": "eaa56b18-f5c6-417f-9d2f-a589fe3f01b8",
   "metadata": {},
   "outputs": [],
   "source": [
    "df = DF_rerr\n",
    "\n",
    "summary = {}\n",
    "for column in df.columns:\n",
    "    q1 = df[column].quantile(0.25)\n",
    "    q3 = df[column].quantile(0.75)\n",
    "    median = df[column].median()\n",
    "    iqr = q3 - q1  # Interquartilsabstand\n",
    "    lower_whisker = df[column][df[column] >= (q1 - 1.5 * iqr)].min()\n",
    "    upper_whisker = df[column][df[column] <= (q3 + 1.5 * iqr)].max()\n",
    "\n",
    "    summary[column] = {\n",
    "        \"Q1\": q1,\n",
    "        \"Median\": median,\n",
    "        \"Q3\": q3,\n",
    "        \"Lower Whisker\": lower_whisker,\n",
    "        \"Upper Whisker\": upper_whisker,\n",
    "    }\n",
    "\n",
    "summary_df = pd.DataFrame(summary).T\n",
    "print(summary_df)"
   ]
  },
  {
   "cell_type": "code",
   "execution_count": null,
   "id": "23eeb88d-10ea-4493-98a6-cc552425823c",
   "metadata": {},
   "outputs": [],
   "source": []
  }
 ],
 "metadata": {
  "kernelspec": {
   "display_name": "Python 3 (ipykernel)",
   "language": "python",
   "name": "python3"
  },
  "language_info": {
   "codemirror_mode": {
    "name": "ipython",
    "version": 3
   },
   "file_extension": ".py",
   "mimetype": "text/x-python",
   "name": "python",
   "nbconvert_exporter": "python",
   "pygments_lexer": "ipython3",
   "version": "3.10.13"
  }
 },
 "nbformat": 4,
 "nbformat_minor": 5
}
