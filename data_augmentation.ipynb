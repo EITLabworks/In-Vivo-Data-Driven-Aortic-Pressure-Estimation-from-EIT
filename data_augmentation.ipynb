{
 "cells": [
  {
   "cell_type": "code",
   "execution_count": null,
   "id": "e68d9091-19f1-4ba7-81a2-c1df55d6b386",
   "metadata": {
    "tags": []
   },
   "outputs": [],
   "source": [
    "import numpy as np\n",
    "\n",
    "np.random.seed(42)\n",
    "\n",
    "import glob\n",
    "import os\n",
    "from multiprocessing import Pool, cpu_count\n",
    "\n",
    "import matplotlib.pyplot as plt\n",
    "\n",
    "from src.data_util import load_preprocess_examples\n",
    "import seaborn as sns\n",
    "\n",
    "fs = 18\n",
    "plt.rcParams.update({\"font.size\": fs})\n",
    "# set layout-theme\n",
    "sns.set_theme(style=\"white\", context=\"talk\")\n",
    "plt.rcParams.update({\"font.size\": 12})\n",
    "plt.rcParams[\"axes.grid\"] = True\n",
    "sns.set(font_scale=1.8)\n",
    "\n",
    "custom_params = {\"axes.spines.right\": False, \"axes.spines.top\": False}\n",
    "sns.set_theme(style=\"ticks\", rc=custom_params)\n",
    "sns.set_context(context=\"paper\", font_scale=1.8)"
   ]
  },
  {
   "cell_type": "code",
   "execution_count": null,
   "id": "1d672840-e1cd-4d1d-a421-3e17bdf159e1",
   "metadata": {
    "tags": []
   },
   "outputs": [],
   "source": [
    "hist_pig_dict = {}\n",
    "load_path = \"/data/PulHypStudie_Check_npz_v2/\"\n",
    "\n",
    "for P in [\"P_{0:02d}_PulHyp\".format(i) for i in range(1, 11)]:\n",
    "    samples = len(os.listdir(load_path + P))\n",
    "    hist_pig_dict[P] = samples\n",
    "    print(P, samples)\n",
    "\n",
    "dap_factor = 180\n",
    "sap_factor = 180\n",
    "map_factor = 160"
   ]
  },
  {
   "cell_type": "code",
   "execution_count": null,
   "id": "40c88071-102e-40d6-acc5-d9d77bbb5fa5",
   "metadata": {},
   "outputs": [],
   "source": [
    "try:\n",
    "    os.mkdir(\"/data/PulHypStudie_Check_npz_v2_SNR20\")\n",
    "except:\n",
    "    print(\"Exists\")"
   ]
  },
  {
   "cell_type": "code",
   "execution_count": null,
   "id": "644d5b5c-cdd3-470b-9ce9-e1f23e870f25",
   "metadata": {},
   "outputs": [],
   "source": [
    "for P in range(1, 11):\n",
    "    try:\n",
    "        os.mkdir(\"/data/PulHypStudie_Check_npz_v2_SNR20/P_{0:02d}_PulHyp\".format(P))\n",
    "    except BaseException:\n",
    "        print(\"Skip\", P)"
   ]
  },
  {
   "cell_type": "code",
   "execution_count": null,
   "id": "02f7b4ab-fcbf-4278-bcef-e3d8ba6ca405",
   "metadata": {},
   "outputs": [],
   "source": [
    "max_samples = 15_000\n",
    "test_limit = 500"
   ]
  },
  {
   "cell_type": "code",
   "execution_count": null,
   "id": "683589bc-b0c8-4e80-b4e7-d304d7f142c5",
   "metadata": {},
   "outputs": [],
   "source": [
    "values = list(hist_pig_dict.values())\n",
    "\n",
    "plt.rcParams[\"hatch.linewidth\"] = 2\n",
    "for i, v in enumerate(values):\n",
    "    # if i == 6:\n",
    "    #    pass\n",
    "    # else:\n",
    "    plt.bar(i, max_samples, color=\"C1\", edgecolor=\"C0\", hatch=\"//\")\n",
    "    plt.bar(i, v, color=\"C0\", edgecolor=\"black\")\n",
    "    plt.bar(i, test_limit, color=\"C2\", edgecolor=\"black\")\n",
    "    # plt.bar(6,values[6], color='C3',edgecolor=\"black\")\n",
    "plt.xticks(ticks=np.arange(0, 10), labels=np.arange(1, 11))\n",
    "plt.ylabel(\"Number of samples\")\n",
    "plt.xlabel(\"Pig\")\n",
    "plt.legend([\"Augmented\", \"Original\", \"Validation\"])\n",
    "plt.tight_layout()\n",
    "# plt.savefig(\"images/hist_pig_samples_aug_v2.png\")\n",
    "# plt.savefig(\"images/hist_pig_samples_aug_v2.pdf\")\n",
    "# plt.savefig(\"images/hist_pig_samples_aug_v2.svg\")\n",
    "plt.show()"
   ]
  },
  {
   "cell_type": "markdown",
   "id": "87cc451b-0ac1-4481-b98e-36cad39c4203",
   "metadata": {},
   "source": [
    "## Automation"
   ]
  },
  {
   "cell_type": "code",
   "execution_count": null,
   "id": "6dbffca6-a379-4216-9516-ea8c5d862880",
   "metadata": {},
   "outputs": [],
   "source": [
    "def add_noise_2d(signal, snr_db=20):  #  SNR definition\n",
    "    signal_power = np.mean(signal**2)\n",
    "    snr_linear = 10 ** (snr_db / 10)\n",
    "    noise_power = signal_power / snr_linear\n",
    "    noise = np.sqrt(noise_power) * np.random.normal(size=signal.shape)\n",
    "    return signal + noise\n",
    "\n",
    "\n",
    "def copy_sample(idx, eit, y, pig, aug_path):\n",
    "    np.savez(\n",
    "        aug_path + \"sample_{0:06d}.npz\".format(idx),\n",
    "        eit=eit,\n",
    "        y=y,\n",
    "        pig=pig,\n",
    "    )\n",
    "\n",
    "\n",
    "def augment_sample(idx, eit, y, pig, aug_path):\n",
    "    np.savez(\n",
    "        aug_path + \"sample_{0:06d}.npz\".format(idx),\n",
    "        eit=add_noise_2d(eit),\n",
    "        y=y,\n",
    "        pig=pig,\n",
    "    )\n",
    "\n",
    "\n",
    "for SELECTED_PIG in [1, 2, 3, 4, 5, 6, 7, 8, 9, 10]:  #  exclude 7\n",
    "    print(SELECTED_PIG)\n",
    "    # l_path = \"/data/PulHyp_and_SVV_npz/\"\n",
    "    l_path = \"/data/PulHypStudie_Check_npz_v2/\"\n",
    "    pig_path = [\"P_{0:02d}_PulHyp\".format(i) for i in [SELECTED_PIG]]\n",
    "\n",
    "    aug_path = \"/data/PulHypStudie_Check_npz_v2_SNR20/\" + pig_path[0] + \"/\"\n",
    "\n",
    "    X, y, clrs_pig = load_preprocess_examples(\n",
    "        l_path,\n",
    "        pig_path,\n",
    "        sap=True,\n",
    "        get_pig=True,\n",
    "        shuffle=True,\n",
    "        norm_eit=\"block\",\n",
    "        quality_check=False,\n",
    "    )\n",
    "\n",
    "    y[:, 0] = y[:, 0] / dap_factor  # dap normalization\n",
    "    y[:, 1] = y[:, 1] / sap_factor  # sap normalization\n",
    "    y[:, 2] = y[:, 2] / map_factor  # map normalization\n",
    "\n",
    "    available = np.arange(0, hist_pig_dict[pig_path[0]])\n",
    "    print(\"available.shape=\", available.shape, \"X.shape=\", X.shape)\n",
    "\n",
    "    cpus = int(64)\n",
    "    pool = Pool()\n",
    "    for idx in available:\n",
    "        pool.apply_async(\n",
    "            copy_sample, args=(idx, X[idx, :, :, 0], y[idx], clrs_pig[idx], aug_path)\n",
    "        )\n",
    "    pool.close()\n",
    "\n",
    "    augmented = np.arange(hist_pig_dict[pig_path[0]], max_samples)\n",
    "    n_samples_curr_pig = hist_pig_dict[pig_path[0]]\n",
    "    aug_num = max_samples - n_samples_curr_pig\n",
    "    print(f\"There are {n_samples_curr_pig}, {aug_num} will be created.\")\n",
    "\n",
    "    sel_from_sample = np.random.randint(\n",
    "        test_limit, n_samples_curr_pig, size=aug_num\n",
    "    )  # exclude the first 250 for testing -> Green\n",
    "\n",
    "    cpus = int(32)\n",
    "    pool = Pool()\n",
    "    for i, idx in enumerate(augmented):\n",
    "        pool.apply_async(\n",
    "            augment_sample,\n",
    "            args=(\n",
    "                idx,\n",
    "                X[sel_from_sample[i], :, :, 0],\n",
    "                y[sel_from_sample[i]],\n",
    "                clrs_pig[sel_from_sample[i]],\n",
    "                aug_path,\n",
    "            ),\n",
    "        )\n",
    "    pool.close()"
   ]
  },
  {
   "cell_type": "code",
   "execution_count": null,
   "id": "1a4621e1-129f-472b-bf27-e1a3541c5b21",
   "metadata": {},
   "outputs": [],
   "source": [
    "for P in [\"P_{0:02d}_PulHyp\".format(i) for i in range(1, 11)]:\n",
    "    print(len(os.listdir(\"/data/PulHypStudie_Check_npz_v2_SNR20/\" + P)))"
   ]
  },
  {
   "cell_type": "code",
   "execution_count": null,
   "id": "fc10dd76-7190-42a2-8957-c3fc2d1f2dc1",
   "metadata": {},
   "outputs": [],
   "source": [
    "### Offset test"
   ]
  },
  {
   "cell_type": "code",
   "execution_count": null,
   "id": "b5d31805-9b05-417b-9fdc-4fc09b1d1104",
   "metadata": {},
   "outputs": [],
   "source": [
    "tmp = np.load(\n",
    "    \"/data/PulHypStudie_Check_npz_v2_SNR20/P_01_PulHyp/sample_000000.npz\",\n",
    "    allow_pickle=True,\n",
    ")\n",
    "tmp.files"
   ]
  },
  {
   "cell_type": "markdown",
   "id": "5b0f8b55-a913-40d6-813d-cc1ca05aaa14",
   "metadata": {
    "jp-MarkdownHeadingCollapsed": true
   },
   "source": [
    "### Archive\n",
    "\n",
    "**Parallel processing**\n",
    "\n",
    "_Copy present samples_"
   ]
  },
  {
   "cell_type": "code",
   "execution_count": null,
   "id": "7141fc11-1c02-4988-a9b1-13cd5e4351ac",
   "metadata": {},
   "outputs": [],
   "source": [
    "l_path = \"/data/PulHyp_and_SVV_npz/\"\n",
    "SELECTED_PIG = 1\n",
    "\n",
    "pig_path = [\"P_{0:02d}_PulHyp\".format(i) for i in [SELECTED_PIG]]\n",
    "\n",
    "aug_path = \"/data/PulHyp_augmented_SNR30/\" + pig_path[0] + \"/\"\n",
    "\n",
    "X, y, clrs_pig = load_preprocess_examples(\n",
    "    l_path,\n",
    "    pig_path,\n",
    "    sap=True,\n",
    "    get_pig=True,\n",
    "    shuffle=False,\n",
    "    norm_eit=\"block\",\n",
    ")\n",
    "\n",
    "y[:, 0] = y[:, 0] / dap_factor  # dap normalization\n",
    "y[:, 1] = y[:, 1] / sap_factor  # sap normalization\n",
    "y[:, 2] = y[:, 2] / map_factor  # map normalization"
   ]
  },
  {
   "cell_type": "code",
   "execution_count": null,
   "id": "4cd56fe5-af50-40e7-a388-1337c8a0e4e1",
   "metadata": {},
   "outputs": [],
   "source": [
    "print(X.shape, y.shape, clrs_pig.shape)"
   ]
  },
  {
   "cell_type": "code",
   "execution_count": null,
   "id": "ecea2b3e-88cc-4e0f-a30b-36db6383b931",
   "metadata": {
    "tags": []
   },
   "outputs": [],
   "source": [
    "aug_path"
   ]
  },
  {
   "cell_type": "markdown",
   "id": "b00f8299-793b-42a2-8060-460b46e96ba1",
   "metadata": {},
   "source": [
    "**Copy available data**"
   ]
  },
  {
   "cell_type": "code",
   "execution_count": null,
   "id": "e90c8f8f-3ed5-44f1-8aa5-805259cbeced",
   "metadata": {
    "tags": []
   },
   "outputs": [],
   "source": [
    "available = np.arange(0, hist_pig_dict[pig_path[0]])\n",
    "available"
   ]
  },
  {
   "cell_type": "code",
   "execution_count": null,
   "id": "5d00066b-72ee-493f-ba31-5a9fb9c373d4",
   "metadata": {},
   "outputs": [],
   "source": [
    "cpu_count()"
   ]
  },
  {
   "cell_type": "code",
   "execution_count": null,
   "id": "b46b636b-d70a-4329-9c77-4c02e64de533",
   "metadata": {},
   "outputs": [],
   "source": [
    "cpus = int(128)\n",
    "\n",
    "\n",
    "def copy_sample(idx, eit, y, pig, aug_path):\n",
    "    np.savez(\n",
    "        aug_path + \"sample_{0:06d}.npz\".format(idx),\n",
    "        eit=eit,\n",
    "        y=y,\n",
    "        pig=pig,\n",
    "    )\n",
    "\n",
    "\n",
    "pool = Pool()\n",
    "for idx in available:\n",
    "    pool.apply_async(\n",
    "        copy_sample, args=(idx, X[idx, :, :, 0], y[idx], clrs_pig[idx], aug_path)\n",
    "    )\n",
    "pool.close()"
   ]
  },
  {
   "cell_type": "code",
   "execution_count": null,
   "id": "77d2db5b-5c52-4248-9ffd-a83127ab28f9",
   "metadata": {},
   "outputs": [],
   "source": [
    "tmp = np.load(\n",
    "    \"/data/PulHyp_augmented_SNR30/P_01_PulHyp/sample_000000.npz\", allow_pickle=True\n",
    ")\n",
    "tmp.files"
   ]
  },
  {
   "cell_type": "code",
   "execution_count": null,
   "id": "eec57d1b-a932-48b2-801f-317dc85caf93",
   "metadata": {},
   "outputs": [],
   "source": [
    "plt.imshow(tmp[\"eit\"])"
   ]
  },
  {
   "cell_type": "code",
   "execution_count": null,
   "id": "de8468b1-5e74-4582-b2b8-3a41ce95e65d",
   "metadata": {},
   "outputs": [],
   "source": [
    "len(os.listdir(\"/data/PulHyp_augmented_SNR30/P_01_PulHyp/\"))"
   ]
  },
  {
   "cell_type": "markdown",
   "id": "72cf52d2-b243-45e9-9ed0-aaa8cc3ff6ba",
   "metadata": {},
   "source": [
    "**Augment data**"
   ]
  },
  {
   "cell_type": "code",
   "execution_count": null,
   "id": "74fda265-3dc1-43ef-b70e-8e9df4167126",
   "metadata": {
    "tags": []
   },
   "outputs": [],
   "source": [
    "augmented = np.arange(hist_pig_dict[pig_path[0]], max_samples)\n",
    "augmented"
   ]
  },
  {
   "cell_type": "code",
   "execution_count": null,
   "id": "4cc6e17b-cb0e-43c9-b72a-987f509e547c",
   "metadata": {
    "tags": []
   },
   "outputs": [],
   "source": [
    "n_samples_curr_pig = hist_pig_dict[pig_path[0]]\n",
    "aug_num = max_samples - n_samples_curr_pig\n",
    "print(f\"There are {n_samples_curr_pig}, {aug_num} will be created.\")\n",
    "\n",
    "sel_from_sample = np.random.randint(0, n_samples_curr_pig, size=aug_num)"
   ]
  },
  {
   "cell_type": "code",
   "execution_count": null,
   "id": "fbb0a974-73d2-42b8-a28b-316d0912c703",
   "metadata": {},
   "outputs": [],
   "source": [
    "def add_noise_2d(signal, snr_db=20):\n",
    "    signal_power = np.mean(signal**2)\n",
    "    snr_linear = 10 ** (snr_db / 10)\n",
    "    noise_power = signal_power / snr_linear\n",
    "    noise = np.sqrt(noise_power) * np.random.normal(size=signal.shape)\n",
    "    return signal + noise"
   ]
  },
  {
   "cell_type": "code",
   "execution_count": null,
   "id": "2f20dfca-c87e-44c4-bd22-12f3a1d47f37",
   "metadata": {},
   "outputs": [],
   "source": [
    "def augment_sample(idx, eit, y, pig, aug_path):\n",
    "    np.savez(\n",
    "        aug_path + \"sample_{0:06d}.npz\".format(idx),\n",
    "        eit=add_noise_2d(eit),\n",
    "        y=y,\n",
    "        pig=pig,\n",
    "    )"
   ]
  },
  {
   "cell_type": "code",
   "execution_count": null,
   "id": "eca7422a-aa8f-4a58-929f-213b4f2e64e9",
   "metadata": {},
   "outputs": [],
   "source": [
    "cpus = int(128)\n",
    "\n",
    "pool = Pool()\n",
    "for i, idx in enumerate(augmented):\n",
    "    pool.apply_async(\n",
    "        augment_sample,\n",
    "        args=(\n",
    "            idx,\n",
    "            X[sel_from_sample[i], :, :, 0],\n",
    "            y[sel_from_sample[i]],\n",
    "            clrs_pig[sel_from_sample[i]],\n",
    "            aug_path,\n",
    "        ),\n",
    "    )\n",
    "pool.close()"
   ]
  },
  {
   "cell_type": "code",
   "execution_count": null,
   "id": "4f5c7ea3-1c0a-44a2-82d0-cc9c19a23225",
   "metadata": {},
   "outputs": [],
   "source": [
    "tmp = np.load(\n",
    "    \"/data/PulHyp_augmented_SNR30/P_01_PulHyp/sample_014999.npz\", allow_pickle=True\n",
    ")\n",
    "tmp.files"
   ]
  },
  {
   "cell_type": "code",
   "execution_count": null,
   "id": "c1f29736-f7fc-4f06-9562-b4b2fcbc4751",
   "metadata": {},
   "outputs": [],
   "source": [
    "print(tmp[\"y\"], tmp[\"pig\"])"
   ]
  },
  {
   "cell_type": "code",
   "execution_count": null,
   "id": "1a6786d6-b0d0-425a-91bc-d1bf86e8a3a1",
   "metadata": {},
   "outputs": [],
   "source": [
    "plt.imshow(tmp[\"eit\"])"
   ]
  },
  {
   "cell_type": "code",
   "execution_count": null,
   "id": "5ad79468-5ec0-420b-b341-e21705500814",
   "metadata": {},
   "outputs": [],
   "source": [
    "len(os.listdir(\"/data/PulHyp_augmented_SNR30/P_01_PulHyp/\"))"
   ]
  },
  {
   "cell_type": "markdown",
   "id": "a7b34c7b-489d-4847-babc-5d912aa06df6",
   "metadata": {},
   "source": [
    "___"
   ]
  }
 ],
 "metadata": {
  "kernelspec": {
   "display_name": "Python 3 (ipykernel)",
   "language": "python",
   "name": "python3"
  },
  "language_info": {
   "codemirror_mode": {
    "name": "ipython",
    "version": 3
   },
   "file_extension": ".py",
   "mimetype": "text/x-python",
   "name": "python",
   "nbconvert_exporter": "python",
   "pygments_lexer": "ipython3",
   "version": "3.10.13"
  }
 },
 "nbformat": 4,
 "nbformat_minor": 5
}
