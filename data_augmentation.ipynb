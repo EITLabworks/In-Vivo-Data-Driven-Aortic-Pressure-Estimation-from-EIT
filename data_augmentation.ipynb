{
 "cells": [
  {
   "cell_type": "code",
   "execution_count": null,
   "id": "e68d9091-19f1-4ba7-81a2-c1df55d6b386",
   "metadata": {
    "tags": []
   },
   "outputs": [],
   "source": [
    "import numpy as np\n",
    "from glob import glob\n",
    "\n",
    "np.random.seed(42)\n",
    "\n",
    "import os\n",
    "from multiprocessing import Pool, cpu_count\n",
    "\n",
    "from src.helping import add_noise_2d, copy_sample, augment_sample\n",
    "\n",
    "import matplotlib.pyplot as plt\n",
    "\n",
    "from src.data_util import load_preprocess_examples\n",
    "import seaborn as sns"
   ]
  },
  {
   "cell_type": "code",
   "execution_count": null,
   "id": "1d672840-e1cd-4d1d-a421-3e17bdf159e1",
   "metadata": {
    "tags": []
   },
   "outputs": [],
   "source": [
    "hist_pig_dict = {}\n",
    "load_path = \"/data/PulHypStudie_Check_npz_v2/\"\n",
    "\n",
    "for P in [\"P_{0:02d}_PulHyp\".format(i) for i in range(1, 11)]:\n",
    "    samples = len(os.listdir(load_path + P))\n",
    "    hist_pig_dict[P] = samples\n",
    "    print(P, samples)"
   ]
  },
  {
   "cell_type": "code",
   "execution_count": null,
   "id": "6a20ad7c-2d8e-4908-80c3-1ecf31af9fa4",
   "metadata": {},
   "outputs": [],
   "source": [
    "Version = 5\n",
    "SNR = 50\n",
    "\n",
    "max_samples = 15_000\n",
    "validation_limit = 500"
   ]
  },
  {
   "cell_type": "code",
   "execution_count": null,
   "id": "40c88071-102e-40d6-acc5-d9d77bbb5fa5",
   "metadata": {},
   "outputs": [],
   "source": [
    "try:\n",
    "    os.mkdir(f\"/data/PulHypStudie_Check_npz_v{Version}_SNR{SNR}\")\n",
    "except:\n",
    "    print(\"Exists\")"
   ]
  },
  {
   "cell_type": "code",
   "execution_count": null,
   "id": "644d5b5c-cdd3-470b-9ce9-e1f23e870f25",
   "metadata": {},
   "outputs": [],
   "source": [
    "for P in range(1, 11):\n",
    "    try:\n",
    "        os.mkdir(\n",
    "            f\"/data/PulHypStudie_Check_npz_v{Version}_SNR{SNR}/\"\n",
    "            + \"P_{0:02d}_PulHyp\".format(P)\n",
    "        )\n",
    "    except BaseException:\n",
    "        print(\"Skip\", P)"
   ]
  },
  {
   "cell_type": "code",
   "execution_count": null,
   "id": "683589bc-b0c8-4e80-b4e7-d304d7f142c5",
   "metadata": {},
   "outputs": [],
   "source": [
    "values = list(hist_pig_dict.values())\n",
    "\n",
    "plt.rcParams[\"hatch.linewidth\"] = 2\n",
    "for i, v in enumerate(values):\n",
    "    plt.bar(i, max_samples, color=\"C1\", edgecolor=\"C0\", hatch=\"//\")\n",
    "    plt.bar(i, v, color=\"C0\", edgecolor=\"black\")\n",
    "    plt.bar(i, validation_limit, color=\"C2\", edgecolor=\"black\")\n",
    "plt.xticks(ticks=np.arange(0, 10), labels=np.arange(1, 11))\n",
    "plt.ylabel(\"Number of samples\")\n",
    "plt.xlabel(\"Pig\")\n",
    "plt.legend([\"Augmented\", \"Original\", \"Validation\"])\n",
    "plt.tight_layout()\n",
    "# plt.savefig(\"images/hist_pig_samples_aug_v2.png\")\n",
    "plt.show()"
   ]
  },
  {
   "cell_type": "markdown",
   "id": "4e3fcefd-77f8-4ffd-8f4b-463dd75d3ab1",
   "metadata": {},
   "source": [
    "**Plot original data**"
   ]
  },
  {
   "cell_type": "code",
   "execution_count": null,
   "id": "2cb86e18-a453-4d46-80fe-3642a409c274",
   "metadata": {},
   "outputs": [],
   "source": [
    "for P in range(1, 11):\n",
    "    A = list()\n",
    "    source = f\"/data/PulHypStudie_Check_npz_v2/\"\n",
    "    source += \"P_{0:02d}_PulHyp/*.npz\".format(P)\n",
    "    print(source)\n",
    "    fls = glob(source)\n",
    "    print(len(fls))\n",
    "    for ele in np.sort(fls):\n",
    "        tmp = np.load(ele, allow_pickle=True)\n",
    "        aorta = tmp[\"aorta\"]\n",
    "        A.append([np.min(aorta), np.max(aorta), np.mean(aorta)])\n",
    "    A = np.array(A)\n",
    "    plt.figure(figsize=(10, 4))\n",
    "    plt.vlines(\n",
    "        list(hist_pig_dict.values())[P - 1],\n",
    "        ymin=0,\n",
    "        ymax=np.max(A),\n",
    "        colors=\"gray\",\n",
    "        linestyles=\"--\",\n",
    "    )\n",
    "    plt.plot(A[:, 1], label=\"SAP\")\n",
    "    plt.plot(A[:, 2], label=\"MAP\")\n",
    "    plt.plot(A[:, 0], label=\"DAP\")\n",
    "    plt.xlim([0, 12859])\n",
    "    plt.legend()\n",
    "    plt.show()"
   ]
  },
  {
   "cell_type": "markdown",
   "id": "87cc451b-0ac1-4481-b98e-36cad39c4203",
   "metadata": {},
   "source": [
    "## Augmentation"
   ]
  },
  {
   "cell_type": "code",
   "execution_count": null,
   "id": "e4fa8a95-7544-4dfd-a6b1-c89060c81409",
   "metadata": {},
   "outputs": [],
   "source": [
    "os.cpu_count()"
   ]
  },
  {
   "cell_type": "code",
   "execution_count": null,
   "id": "1f3ada01-a679-478b-8844-ab167dea41a3",
   "metadata": {},
   "outputs": [],
   "source": [
    "for SELECTED_PIG in [1, 2, 3, 4, 5, 6, 7, 8, 9, 10]:\n",
    "    pig_path = [\"P_{0:02d}_PulHyp\".format(SELECTED_PIG)]\n",
    "    print(pig_path)\n",
    "\n",
    "    aug_path = f\"/data/PulHypStudie_Check_npz_v{Version}_SNR{SNR}/\" + pig_path[0] + \"/\"\n",
    "    print(aug_path)\n",
    "    X, y, clrs_pig = load_preprocess_examples(\n",
    "        load_path,\n",
    "        pig_path,\n",
    "        sap=True,\n",
    "        get_pig=True,\n",
    "        shuffle=False,\n",
    "        norm_eit=\"block\",\n",
    "        quality_check=False,\n",
    "    )\n",
    "\n",
    "    available = np.arange(0, X.shape[0])\n",
    "    assert available.shape[0] == X.shape[0]\n",
    "\n",
    "    print(\"available.shape=\", available.shape, \"X.shape=\", X.shape)\n",
    "\n",
    "    augmented = np.arange(X.shape[0], max_samples)\n",
    "    aug_num = max_samples - X.shape[0]\n",
    "    print(f\"There are {X.shape[0]}, {aug_num} will be created.\")\n",
    "\n",
    "    sel_from_sample = np.random.randint(\n",
    "        validation_limit, X.shape[0], size=aug_num\n",
    "    )  # exclude the first validation_limit for validation\n",
    "    sel_from_sample = np.sort(sel_from_sample)\n",
    "    assert max_samples == len(available) + len(augmented)\n",
    "\n",
    "    cpus = int(200)\n",
    "    pool = Pool()\n",
    "    for idx in available:\n",
    "        pool.apply_async(\n",
    "            copy_sample, args=(idx, X[idx, :, :, 0], y[idx], clrs_pig[idx], aug_path)\n",
    "        )\n",
    "    pool.close()\n",
    "\n",
    "    cpus = int(200)\n",
    "    pool = Pool()\n",
    "    for i, idx in enumerate(augmented):\n",
    "        pool.apply_async(\n",
    "            augment_sample,\n",
    "            args=(\n",
    "                idx,\n",
    "                X[sel_from_sample[i], :, :, 0],\n",
    "                y[sel_from_sample[i]],\n",
    "                clrs_pig[sel_from_sample[i]],\n",
    "                aug_path,\n",
    "            ),\n",
    "        )\n",
    "    pool.close()"
   ]
  },
  {
   "cell_type": "markdown",
   "id": "3ff81fe1-ae1e-4865-9f3d-2a442b295970",
   "metadata": {},
   "source": [
    "**Plot augmented data**"
   ]
  },
  {
   "cell_type": "code",
   "execution_count": null,
   "id": "092d8d74-8bc6-47ac-bd1a-f58914718f94",
   "metadata": {},
   "outputs": [],
   "source": [
    "for P in range(1, 11):\n",
    "    source = f\"/data/PulHypStudie_Check_npz_v{Version}_SNR{SNR}/\"\n",
    "    source += \"P_{0:02d}_PulHyp/*.npz\".format(P)\n",
    "    print(source)\n",
    "    fls = glob(source)\n",
    "    print(len(fls))"
   ]
  },
  {
   "cell_type": "code",
   "execution_count": null,
   "id": "1a4621e1-129f-472b-bf27-e1a3541c5b21",
   "metadata": {},
   "outputs": [],
   "source": [
    "for P in range(1, 11):\n",
    "    A = list()\n",
    "    source = f\"/data/PulHypStudie_Check_npz_v{Version}_SNR{SNR}/\"\n",
    "    source += \"P_{0:02d}_PulHyp/*.npz\".format(P)\n",
    "    print(source)\n",
    "    fls = glob(source)\n",
    "    print(len(fls))\n",
    "    for ele in np.sort(fls):\n",
    "        tmp = np.load(ele, allow_pickle=True)\n",
    "        A.append(tmp[\"y\"])\n",
    "    A = np.array(A)\n",
    "    plt.figure(figsize=(10, 4))\n",
    "    plt.vlines(\n",
    "        list(hist_pig_dict.values())[P - 1],\n",
    "        ymin=0,\n",
    "        ymax=np.max(A),\n",
    "        colors=\"gray\",\n",
    "        linestyles=\"--\",\n",
    "    )\n",
    "    plt.plot(A[:, 1], label=\"SAP\")\n",
    "    plt.plot(A[:, 2], label=\"MAP\")\n",
    "    plt.plot(A[:, 0], label=\"DAP\")\n",
    "    plt.legend()\n",
    "    plt.show()"
   ]
  },
  {
   "cell_type": "markdown",
   "id": "8b42038d-908d-4fe2-93a4-25dc8e0e182c",
   "metadata": {},
   "source": [
    "**Data loading evaluation**"
   ]
  },
  {
   "cell_type": "code",
   "execution_count": null,
   "id": "8e981c03-0fc3-4a94-b022-2f0e1fd71239",
   "metadata": {},
   "outputs": [],
   "source": [
    "from src.data_util import load_augmented_example\n",
    "from src.helping import find_pig_indices\n",
    "from sklearn.decomposition import PCA\n",
    "from sklearn.preprocessing import StandardScaler"
   ]
  },
  {
   "cell_type": "code",
   "execution_count": null,
   "id": "8e801ef1-5ea5-4cea-a00c-9f4209a30ee5",
   "metadata": {},
   "outputs": [],
   "source": [
    "aug_path = f\"/data/PulHypStudie_Check_npz_v{Version}_SNR{SNR}/\"\n",
    "pigs = [\"P_02_PulHyp\"]"
   ]
  },
  {
   "cell_type": "code",
   "execution_count": null,
   "id": "8a67732f-b104-447e-98a9-444c60f834b5",
   "metadata": {},
   "outputs": [],
   "source": [
    "for P in range(1, 11):\n",
    "    pigs = \"P_{0:02d}_PulHyp\".format(P)\n",
    "    print(\"Pig\", pigs)\n",
    "    X_train, y_train, clrs_pig_train = load_augmented_example(\n",
    "        aug_path, [pigs], sample_skip=500, load_samples=\"upwards\", shuffle=True\n",
    "    )\n",
    "\n",
    "    X_valid, y_valid, clrs_pig_valid = load_augmented_example(\n",
    "        aug_path, [pigs], sample_skip=500, load_samples=\"downwards\", shuffle=True\n",
    "    )\n",
    "    find_pig_indices(clrs_pig_train, \"Pig_{0:02d}\".format(P))\n",
    "    find_pig_indices(clrs_pig_valid, \"Pig_{0:02d}\".format(P))\n",
    "    scaler = StandardScaler()\n",
    "    X_scaled = scaler.fit_transform(\n",
    "        X_train.reshape(X_train.shape[0], X_train.shape[1] * X_train.shape[2])\n",
    "    )\n",
    "\n",
    "    pca = PCA(n_components=2)\n",
    "    X_pca = pca.fit_transform(X_scaled)\n",
    "\n",
    "    colors = [\n",
    "        \"red\" if i < hist_pig_dict[pigs] else \"green\" for i in range(X_pca.shape[0])\n",
    "    ]\n",
    "\n",
    "    plt.figure(figsize=(8, 6))\n",
    "    plt.title(f\"EIT-PCA for pig {P}\")\n",
    "    scatter = plt.scatter(X_pca[:, 0], X_pca[:, 1], c=colors)\n",
    "    plt.xlabel(\"1st principal component\")\n",
    "    plt.ylabel(\"2nd principal component\")\n",
    "    plt.show()"
   ]
  },
  {
   "cell_type": "markdown",
   "id": "179abbff-93ee-4a65-be6b-7c3162b9b57e",
   "metadata": {},
   "source": [
    "**Archive**"
   ]
  },
  {
   "cell_type": "code",
   "execution_count": null,
   "id": "c8d01e0f-9805-450a-ad1c-578ccb47df87",
   "metadata": {},
   "outputs": [],
   "source": [
    "tmp.files"
   ]
  },
  {
   "cell_type": "code",
   "execution_count": null,
   "id": "fc10dd76-7190-42a2-8957-c3fc2d1f2dc1",
   "metadata": {},
   "outputs": [],
   "source": [
    "### Offset test"
   ]
  },
  {
   "cell_type": "code",
   "execution_count": null,
   "id": "b5d31805-9b05-417b-9fdc-4fc09b1d1104",
   "metadata": {},
   "outputs": [],
   "source": [
    "tmp = np.load(\n",
    "    \"/data/PulHypStudie_Check_npz_v4_SNR30/P_01_PulHyp/sample_000000.npz\",\n",
    "    allow_pickle=True,\n",
    ")\n",
    "tmp.files"
   ]
  },
  {
   "cell_type": "markdown",
   "id": "a7b34c7b-489d-4847-babc-5d912aa06df6",
   "metadata": {},
   "source": [
    "___"
   ]
  }
 ],
 "metadata": {
  "kernelspec": {
   "display_name": "Python 3 (ipykernel)",
   "language": "python",
   "name": "python3"
  },
  "language_info": {
   "codemirror_mode": {
    "name": "ipython",
    "version": 3
   },
   "file_extension": ".py",
   "mimetype": "text/x-python",
   "name": "python",
   "nbconvert_exporter": "python",
   "pygments_lexer": "ipython3",
   "version": "3.10.13"
  }
 },
 "nbformat": 4,
 "nbformat_minor": 5
}
