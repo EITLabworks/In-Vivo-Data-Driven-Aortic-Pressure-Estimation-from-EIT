{
 "cells": [
  {
   "cell_type": "code",
   "execution_count": null,
   "id": "af16a57c-6e22-4399-9ff7-6d3b23d9fbde",
   "metadata": {},
   "outputs": [],
   "source": [
    "import numpy as np\n",
    "import matplotlib.pyplot as plt\n",
    "from src.data_util import load_augmented_example, load_preprocess_examples\n",
    "from src.evaluation import DAP_SAP_MAP_kde, hist_AP, plot_SAP_MAP\n",
    "\n",
    "import tensorflow as tf\n",
    "\n",
    "from sklearn.model_selection import train_test_split\n",
    "import glob\n",
    "import json\n",
    "import os\n",
    "\n",
    "os.environ[\"CUDA_VISIBLE_DEVICES\"] = \"2\"\n",
    "\n",
    "import seaborn as sns\n",
    "import pandas as pd\n",
    "\n",
    "from sklearn.decomposition import PCA\n",
    "from sklearn.preprocessing import StandardScaler\n",
    "\n",
    "np.random.seed(42)\n",
    "tf.random.set_seed(42)"
   ]
  },
  {
   "cell_type": "code",
   "execution_count": null,
   "id": "283cd7b0-d42e-4f39-b125-5025b273852f",
   "metadata": {},
   "outputs": [],
   "source": [
    "all_pigs = [\"P_{0:02d}_PulHyp\".format(i) for i in range(1, 11)]\n",
    "print(all_pigs)\n",
    "\n",
    "pig_test_s_dict = {\n",
    "    \"P_01_PulHyp\": 10338,\n",
    "    \"P_02_PulHyp\": 12859,\n",
    "    \"P_03_PulHyp\": 8124,\n",
    "    \"P_04_PulHyp\": 8914,\n",
    "    \"P_05_PulHyp\": 10063,\n",
    "    \"P_06_PulHyp\": 6934,\n",
    "    \"P_07_PulHyp\": 5692,\n",
    "    \"P_08_PulHyp\": 7189,\n",
    "    \"P_09_PulHyp\": 8228,\n",
    "    \"P_10_PulHyp\": 6552,\n",
    "}\n",
    "\n",
    "load_path = \"/data/PulHypStudie_Check_npz_v4_SNR20/\""
   ]
  },
  {
   "cell_type": "code",
   "execution_count": null,
   "id": "9b8fece4-3d2b-49e1-a198-7416ffd11466",
   "metadata": {},
   "outputs": [],
   "source": [
    "X_train, y_train, clrs_pig_train = load_augmented_example(\n",
    "    load_path, all_pigs, sample_skip=500, load_samples=\"upwards\", shuffle=True\n",
    ")\n",
    "\n",
    "X_valid, y_valid, clrs_pig_valid = load_augmented_example(\n",
    "    load_path, all_pigs, sample_skip=500, load_samples=\"downwards\", shuffle=True\n",
    ")"
   ]
  },
  {
   "cell_type": "code",
   "execution_count": null,
   "id": "10a6140b-e65b-41cc-8211-577d76211c70",
   "metadata": {},
   "outputs": [],
   "source": [
    "print(\n",
    "    X_train.shape,\n",
    "    X_valid.shape,\n",
    "    y_train.shape,\n",
    "    y_valid.shape,\n",
    "    clrs_pig_train.shape,\n",
    "    clrs_pig_valid.shape,\n",
    ")"
   ]
  },
  {
   "cell_type": "code",
   "execution_count": null,
   "id": "5539e70e-fa5d-485a-a5c6-da6e7a30e9cf",
   "metadata": {},
   "outputs": [],
   "source": [
    "np.max(y_train, axis=0), np.max(y_valid, axis=0)"
   ]
  },
  {
   "cell_type": "code",
   "execution_count": null,
   "id": "cbf3783d-df14-4cc1-b317-51742a84f6f4",
   "metadata": {},
   "outputs": [],
   "source": [
    "dap_factor = 120\n",
    "sap_factor = 180\n",
    "map_factor = 150\n",
    "\n",
    "y_train[:, 0] = y_train[:, 0] / dap_factor  # dap normalization\n",
    "y_train[:, 1] = y_train[:, 1] / sap_factor  # sap normalization\n",
    "y_train[:, 2] = y_train[:, 2] / map_factor  # map normalization\n",
    "\n",
    "y_valid[:, 0] = y_valid[:, 0] / dap_factor  # dap normalization\n",
    "y_valid[:, 1] = y_valid[:, 1] / sap_factor  # sap normalization\n",
    "y_valid[:, 2] = y_valid[:, 2] / map_factor  # map normalization"
   ]
  },
  {
   "cell_type": "code",
   "execution_count": null,
   "id": "b2713f79-3151-474b-b2cc-142de0cef8de",
   "metadata": {},
   "outputs": [],
   "source": [
    "np.max(y_train, axis=0), np.max(y_valid, axis=0)"
   ]
  },
  {
   "cell_type": "markdown",
   "id": "fe48e161-6fe5-4d6b-a0d5-a6bd421a644f",
   "metadata": {},
   "source": [
    "**Get test pig**"
   ]
  },
  {
   "cell_type": "code",
   "execution_count": null,
   "id": "2650c728-43ee-4344-95de-ffe54032873b",
   "metadata": {},
   "outputs": [],
   "source": [
    "for p_n, drop_pig in enumerate(all_pigs):\n",
    "    print(f\"Tuning for all pics and test on {drop_pig}\")\n",
    "    upw_num = pig_test_s_dict[drop_pig]\n",
    "    print(\"Test smples:\", upw_num)"
   ]
  },
  {
   "cell_type": "code",
   "execution_count": null,
   "id": "2c0eaf44-c9c2-451d-8a59-28da4663652e",
   "metadata": {},
   "outputs": [],
   "source": [
    "tmp = np.load(\n",
    "    \"/data/PulHypStudie_Check_npz_v4_SNR20/P_01_PulHyp/sample_014999.npz\",\n",
    "    allow_pickle=True,\n",
    ")\n",
    "tmp.files"
   ]
  },
  {
   "cell_type": "code",
   "execution_count": null,
   "id": "bf2c77b3-1700-4046-a035-d6b719f90fb1",
   "metadata": {},
   "outputs": [],
   "source": [
    "tmp[\"pig\"]"
   ]
  },
  {
   "cell_type": "code",
   "execution_count": null,
   "id": "aa967f3a-6025-4c61-8625-3898d60b5441",
   "metadata": {},
   "outputs": [],
   "source": [
    "plt.hist(clrs_pig_train[:, 0])"
   ]
  },
  {
   "cell_type": "code",
   "execution_count": null,
   "id": "7c27495a-f922-4784-a6ad-e793878b6ac2",
   "metadata": {},
   "outputs": [],
   "source": [
    "def find_pig_indices(pig_list: list, filt_for: str, mode=\"only\"):\n",
    "    pig_list = pig_list[:, 0]\n",
    "    if mode == \"only\":\n",
    "        idx = np.where(pig_list == filt_for)[0]\n",
    "    if mode == \"exclude\":\n",
    "        idx = np.where(pig_list != filt_for)[0]\n",
    "\n",
    "    print(f\"Found {len(idx)} entries.\")\n",
    "    return idx"
   ]
  },
  {
   "cell_type": "code",
   "execution_count": null,
   "id": "a170d949-2abe-4e05-99dc-b8beac040fd2",
   "metadata": {},
   "outputs": [],
   "source": [
    "find_pig_indices(clrs_pig_train, filt_for=\"Pig_02\")"
   ]
  },
  {
   "cell_type": "code",
   "execution_count": null,
   "id": "cc6150ee-d35d-43f2-a61c-6e0f0822e275",
   "metadata": {},
   "outputs": [],
   "source": [
    "plt.figure(figsize=(13, 4))\n",
    "plt.plot(y_train[:, 0])\n",
    "plt.plot(y_train[:, 1])\n",
    "plt.plot(y_train[:, 2])"
   ]
  },
  {
   "cell_type": "code",
   "execution_count": null,
   "id": "e3b5e989-d880-4c50-b3ec-39376bbadf38",
   "metadata": {},
   "outputs": [],
   "source": [
    "np.unique(clrs_pig_p1[:, 0])"
   ]
  },
  {
   "cell_type": "code",
   "execution_count": null,
   "id": "48fd2c84-17ba-48fb-8382-bfa04fff85ab",
   "metadata": {},
   "outputs": [],
   "source": [
    "plt.figure(figsize=(13, 4))\n",
    "plt.plot(y_p1[:, 0])\n",
    "plt.plot(y_p1[:, 1])\n",
    "plt.plot(y_p1[:, 2])"
   ]
  },
  {
   "cell_type": "code",
   "execution_count": null,
   "id": "2e8465db-a84e-4316-aac5-1be6fbf0b482",
   "metadata": {},
   "outputs": [],
   "source": [
    "clrs_pig_train"
   ]
  },
  {
   "cell_type": "code",
   "execution_count": null,
   "id": "6b35bdfe-40d6-4b4e-b6d0-9e56ebee81bb",
   "metadata": {},
   "outputs": [],
   "source": [
    "X_test, y_test, clrs_pig_test = load_augmented_example(\n",
    "    load_path, pigs, sample_skip=upw_num, load_samples=\"downwards\", shuffle=True\n",
    ")"
   ]
  },
  {
   "cell_type": "code",
   "execution_count": null,
   "id": "09ebc75c-4e8f-4aa4-a623-c4772ed5493d",
   "metadata": {},
   "outputs": [],
   "source": [
    "print(\n",
    "    X_train.shape,\n",
    "    y_train.shape,\n",
    "    clrs_pig_train.shape,\n",
    ")"
   ]
  },
  {
   "cell_type": "code",
   "execution_count": null,
   "id": "a303c67d-1b7b-4aef-bc45-977cb1cd4a93",
   "metadata": {},
   "outputs": [],
   "source": [
    "np.max(y_train, axis=0)"
   ]
  },
  {
   "cell_type": "code",
   "execution_count": null,
   "id": "cae2e568-a0b9-4c79-9067-ec37e3734ed0",
   "metadata": {},
   "outputs": [],
   "source": [
    "dap_factor = 120\n",
    "sap_factor = 180\n",
    "map_factor = 150\n",
    "\n",
    "y_train[:, 0] = y_train[:, 0] / dap_factor  # dap normalization\n",
    "y_train[:, 1] = y_train[:, 1] / sap_factor  # sap normalization\n",
    "y_train[:, 2] = y_train[:, 2] / map_factor  # map normalization"
   ]
  },
  {
   "cell_type": "code",
   "execution_count": null,
   "id": "98ee0881-9e06-48fe-ada3-dcb50bf3a887",
   "metadata": {},
   "outputs": [],
   "source": [
    "np.max(y_train, axis=0)"
   ]
  },
  {
   "cell_type": "markdown",
   "id": "6b0bd4cd-727e-48cf-bb7a-4417b4eac0ce",
   "metadata": {},
   "source": [
    "**Drop Pig function**"
   ]
  },
  {
   "cell_type": "code",
   "execution_count": null,
   "id": "05f73b07-96a5-45dd-87e7-46dc8dbdec06",
   "metadata": {},
   "outputs": [],
   "source": [
    "for p_n, drop_pig in enumerate(all_pigs):\n",
    "    print(f\"Tuning for all pics and test on {drop_pig}\")\n",
    "    # select train/test indices\n",
    "    train_sel = find_pig_indices(\n",
    "        clrs_pig_train, filt_for=f\"Pig_0{p_n+1}\", mode=\"exclude\"\n",
    "    )\n",
    "\n",
    "# tbd:\n",
    "# load only test pig non shuffled\n",
    "\n",
    "X_test, y_test, clrs_pig_test = load_augmented_example(\n",
    "    load_path, pigs, sample_skip=0, load_samples=\"upwards\", shuffle=False\n",
    ")"
   ]
  }
 ],
 "metadata": {
  "kernelspec": {
   "display_name": "Python 3 (ipykernel)",
   "language": "python",
   "name": "python3"
  },
  "language_info": {
   "codemirror_mode": {
    "name": "ipython",
    "version": 3
   },
   "file_extension": ".py",
   "mimetype": "text/x-python",
   "name": "python",
   "nbconvert_exporter": "python",
   "pygments_lexer": "ipython3",
   "version": "3.10.13"
  }
 },
 "nbformat": 4,
 "nbformat_minor": 5
}
