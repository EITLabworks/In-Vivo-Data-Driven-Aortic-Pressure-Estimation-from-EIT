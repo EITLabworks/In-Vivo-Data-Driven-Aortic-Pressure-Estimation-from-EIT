{
 "cells": [
  {
   "cell_type": "code",
   "execution_count": null,
   "id": "d07142f6-7e31-4a5a-8d31-4d479111e3b6",
   "metadata": {},
   "outputs": [],
   "source": [
    "from src.data_util import load_preprocess_examples, normalize_aorta\n",
    "import json\n",
    "import numpy as np\n",
    "import matplotlib.pyplot as plt\n",
    "from sklearn.decomposition import PCA\n",
    "from sklearn.preprocessing import StandardScaler\n",
    "from src.data_util import load_augmented_example"
   ]
  },
  {
   "cell_type": "code",
   "execution_count": null,
   "id": "bc89dcce-8541-400d-a90b-95aad62323fe",
   "metadata": {},
   "outputs": [],
   "source": [
    "def analyse_measurements(X, y, labels):\n",
    "    pca = PCA(n_components=2, svd_solver=\"full\")\n",
    "    pca.fit(X)\n",
    "    Xt = pca.transform(X)\n",
    "\n",
    "    pca = PCA(n_components=2, svd_solver=\"full\")\n",
    "    pca.fit(y)\n",
    "    yt = pca.transform(y)\n",
    "\n",
    "    fig, axs = plt.subplots(3, 2, figsize=(16, 32))\n",
    "\n",
    "    axs[0, 0].plot(np.sum(X, axis=1) / 1024)\n",
    "    axs[0, 0].set_title(f\"EIT -- {labels[0]}\")\n",
    "    axs[0, 0].grid()\n",
    "    axs[0, 0].set_ylabel(\"sum EIT signals\")\n",
    "    axs[0, 0].set_ylim([-1.5, 1.5])\n",
    "\n",
    "    axs[1, 0].hist(X.flatten(), bins=100, range=[-3, 3])\n",
    "    axs[1, 0].set_ylabel(\"count\")\n",
    "    axs[1, 0].set_ylabel(\"amplitude\")\n",
    "\n",
    "    axs[2, 0].scatter(Xt[:, 0], Xt[:, 1], s=0.25, alpha=1)\n",
    "    axs[2, 0].set_xlabel(\"PCA Axis 0\")\n",
    "    axs[2, 0].set_ylabel(\"PCA Axis 1\")\n",
    "    axs[2, 0].grid()\n",
    "\n",
    "    axs[0, 1].plot((normalize_aorta(np.hstack(y), invert=True)))\n",
    "    axs[0, 1].grid()\n",
    "    axs[0, 1].set_title(f\"Aorta Pressure -- {labels[0]}\")\n",
    "    axs[0, 1].set_ylabel(\"pressure in mmHG\")\n",
    "    # axs[1,1].set_ylim([0, 1.2])\n",
    "\n",
    "    axs[1, 1].hist(normalize_aorta(y, invert=True).flatten(), bins=100)\n",
    "    axs[1, 1].set_ylabel(\"count\")\n",
    "    axs[1, 1].set_ylabel(\"amplitude\")\n",
    "\n",
    "    axs[2, 1].scatter(yt[:, 0], yt[:, 1], s=0.25, alpha=1)\n",
    "    axs[2, 1].set_xlabel(\"PCA Axis 0\")\n",
    "    axs[2, 1].set_ylabel(\"PCA Axis 1\")\n",
    "    axs[2, 1].grid()\n",
    "\n",
    "    # fig.savefig(f'./quality_checks/PCA_{labels[0]}.png')\n",
    "\n",
    "\n",
    "def plot_aorta(y, labels):\n",
    "    y10 = np.array_split(y, 10)\n",
    "\n",
    "    fig, axs = plt.subplots(5, 2, figsize=(16, 40))\n",
    "\n",
    "    for n in range(2):\n",
    "        for m in range(5):\n",
    "            axs[m, n].plot(\n",
    "                normalize_aorta(y10[(n - 1) * 5 + m].T, invert=True), \"k-\", alpha=0.1\n",
    "            )\n",
    "            axs[m, n].grid()\n",
    "            # axs[n].set_title(f'Aorta Pressure -- {labels[0]}')\n",
    "            axs[m, n].set_ylabel(\"pressure mmHg\")\n",
    "\n",
    "    fig.suptitle(f\"Aorta Pressure -- {labels[0]}\")\n",
    "\n",
    "    # fig.savefig(f'./quality_checks/aorta_{labels[0]}.png')"
   ]
  },
  {
   "cell_type": "code",
   "execution_count": null,
   "id": "5f56808d-abe5-498d-873c-c15b4344a318",
   "metadata": {},
   "outputs": [],
   "source": [
    "train_pig = [\"P_{0:02d}_PulHyp\".format(i) for i in range(1, 11)]\n",
    "print(train_pig)"
   ]
  },
  {
   "cell_type": "code",
   "execution_count": null,
   "id": "87394543-ffc9-48b4-a5ef-47c5b1cf18ed",
   "metadata": {},
   "outputs": [],
   "source": [
    "for pig in train_pig:\n",
    "    X, y, _ = load_augmented_example(\"/data/PulHyp_augmented_SNR20/\", [pig])\n",
    "    X = np.reshape(X, (X.shape[0] * X.shape[1], X.shape[2]))\n",
    "\n",
    "    scaler_X = StandardScaler()\n",
    "    scaler_X.fit(X)\n",
    "    X = scaler_X.transform(X)\n",
    "\n",
    "    analyse_measurements(X, y, pig)\n",
    "    plot_aorta(y, pig)"
   ]
  },
  {
   "cell_type": "code",
   "execution_count": null,
   "id": "a940d4a9-f952-41af-93a4-e1bfd19b4901",
   "metadata": {},
   "outputs": [],
   "source": []
  }
 ],
 "metadata": {
  "kernelspec": {
   "display_name": "Python 3 (ipykernel)",
   "language": "python",
   "name": "python3"
  },
  "language_info": {
   "codemirror_mode": {
    "name": "ipython",
    "version": 3
   },
   "file_extension": ".py",
   "mimetype": "text/x-python",
   "name": "python",
   "nbconvert_exporter": "python",
   "pygments_lexer": "ipython3",
   "version": "3.10.13"
  }
 },
 "nbformat": 4,
 "nbformat_minor": 5
}
